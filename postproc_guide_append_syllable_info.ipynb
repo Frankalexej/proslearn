{
 "cells": [
  {
   "cell_type": "code",
   "execution_count": 1,
   "metadata": {},
   "outputs": [],
   "source": [
    "import os\n",
    "import pandas as pd\n",
    "from paths import *\n",
    "from misc_tools import PathUtils as PU\n",
    "from misc_tools import AudioCut"
   ]
  },
  {
   "cell_type": "code",
   "execution_count": 2,
   "metadata": {},
   "outputs": [],
   "source": [
    "def assign_syllable_id(group):\n",
    "    # Initialize syllable_id\n",
    "    syllable_id = 0\n",
    "    syllable_ids = []\n",
    "    \n",
    "    # Iterate over the rows in the group\n",
    "    for index, row in group.iterrows():\n",
    "        if row['syllable_in_id'] == 1:\n",
    "            # Increment syllable_id when syllable_in_id is 1\n",
    "            syllable_id += 1\n",
    "        syllable_ids.append(syllable_id)\n",
    "    \n",
    "    # Add the syllable_ids to the group\n",
    "    group['syllable_id'] = syllable_ids\n",
    "    return group"
   ]
  },
  {
   "cell_type": "code",
   "execution_count": 3,
   "metadata": {},
   "outputs": [],
   "source": [
    "for guide_name in [\"guide_validation\"]: # \"guide_train_original\", \"guide_validation_original.csv\", \"guide_test_original.csv\"\n",
    "    guide_ = os.path.join(src_eng_, f\"{guide_name}_original.csv\")\n",
    "    guide_df = pd.read_csv(guide_)\n",
    "    guide_df = guide_df.groupby('file').apply(assign_syllable_id).reset_index(drop=True)\n",
    "    guide_df.to_csv(os.path.join(src_eng_, f\"{guide_name}.csv\"), index=False)"
   ]
  },
  {
   "cell_type": "markdown",
   "metadata": {},
   "source": [
    "# Append Syllable UID and Path"
   ]
  },
  {
   "cell_type": "code",
   "execution_count": 4,
   "metadata": {},
   "outputs": [],
   "source": [
    "for x_name in [\"guide_validation.csv\"]: # \"guide_train\", \"guide_validation.csv\", \"guide_test.csv\"\n",
    "    x_ = os.path.join(src_eng_, x_name)\n",
    "\n",
    "    guide_x = pd.read_csv(x_)\n",
    "\n",
    "    guide_x[\"syllable_path\"] = guide_x.apply(AudioCut.syllablerecord2filepath, axis=1)\n",
    "\n",
    "    guide_x[\"suid\"] = guide_x.apply(AudioCut.syllablerecord2suid, axis=1)\n",
    "\n",
    "    guide_x.to_csv(x_, index=False)"
   ]
  },
  {
   "cell_type": "code",
   "execution_count": 2,
   "metadata": {},
   "outputs": [],
   "source": [
    "guide_ = os.path.join(src_eng_, \"guide_test_complete.csv\")\n",
    "guide_df = pd.read_csv(guide_)"
   ]
  },
  {
   "cell_type": "markdown",
   "metadata": {},
   "source": [
    "# Add stress mark"
   ]
  },
  {
   "cell_type": "code",
   "execution_count": 21,
   "metadata": {},
   "outputs": [],
   "source": [
    "import re"
   ]
  },
  {
   "cell_type": "code",
   "execution_count": null,
   "metadata": {},
   "outputs": [],
   "source": [
    "for guide_name in [\"guide_validation\"]: # \"guide_train_original\", \"guide_validation_original.csv\", \"guide_test_original.csv\"\n",
    "    guide_ = os.path.join(src_eng_, f\"{guide_name}.csv\")\n",
    "    guide_df = pd.read_csv(guide_)\n",
    "    guide_df = guide_df.groupby('file').apply(assign_syllable_id).reset_index(drop=True)\n",
    "    guide_df.to_csv(os.path.join(src_eng_, f\"{guide_name}.csv\"), index=False)"
   ]
  },
  {
   "cell_type": "markdown",
   "metadata": {},
   "source": [
    "# Append nSample"
   ]
  },
  {
   "cell_type": "code",
   "execution_count": 5,
   "metadata": {},
   "outputs": [],
   "source": [
    "import torchaudio"
   ]
  },
  {
   "cell_type": "code",
   "execution_count": 6,
   "metadata": {},
   "outputs": [],
   "source": [
    "def get_nSample(path): \n",
    "    waveform, sample_rate = torchaudio.load(path)\n",
    "    return waveform.size(-1)"
   ]
  },
  {
   "cell_type": "code",
   "execution_count": 10,
   "metadata": {},
   "outputs": [],
   "source": [
    "guide_ = os.path.join(src_eng_, \"guide_test.csv\")\n",
    "guide_df = pd.read_csv(guide_)"
   ]
  },
  {
   "cell_type": "code",
   "execution_count": 14,
   "metadata": {},
   "outputs": [],
   "source": [
    "recpath = guide_df.iloc[0][\"syllable_path\"]"
   ]
  },
  {
   "cell_type": "code",
   "execution_count": 15,
   "metadata": {},
   "outputs": [
    {
     "data": {
      "text/plain": [
       "10720"
      ]
     },
     "execution_count": 15,
     "metadata": {},
     "output_type": "execute_result"
    }
   ],
   "source": [
    "get_nSample(os.path.join(train_cut_syllable_, recpath))"
   ]
  },
  {
   "cell_type": "markdown",
   "metadata": {},
   "source": [
    "# Add stress mark"
   ]
  },
  {
   "cell_type": "code",
   "execution_count": 48,
   "metadata": {},
   "outputs": [],
   "source": [
    "def getSyllableStressType(row): \n",
    "    syllable = row[\"syllable\"]\n",
    "    stresses = re.findall(r'\\d+', syllable)\n",
    "    if len(stresses) != 1: \n",
    "        return \"SNA\"\n",
    "    else: \n",
    "        return stresses[0]"
   ]
  },
  {
   "cell_type": "code",
   "execution_count": 49,
   "metadata": {},
   "outputs": [
    {
     "ename": "",
     "evalue": "",
     "output_type": "error",
     "traceback": [
      "\u001b[1;31mThe Kernel crashed while executing code in the current cell or a previous cell. \n",
      "\u001b[1;31mPlease review the code in the cell(s) to identify a possible cause of the failure. \n",
      "\u001b[1;31mClick <a href='https://aka.ms/vscodeJupyterKernelCrash'>here</a> for more info. \n",
      "\u001b[1;31mView Jupyter <a href='command:jupyter.viewOutput'>log</a> for further details."
     ]
    }
   ],
   "source": [
    "for guide_name in [\"guide_train\", \"guide_validation\", \"guide_test\"]: # \"guide_train_original\", \"guide_validation_original.csv\", \"guide_test_original.csv\"\n",
    "    guide_ = os.path.join(src_eng_, f\"{guide_name}.csv\")\n",
    "    guide_df = pd.read_csv(guide_)\n",
    "    small_df = guide_df[[\"syllable\", \"suid\"]].groupby('suid').first().reset_index()\n",
    "    small_df[\"syllable_stress_type\"] = small_df.apply(getSyllableStressType, axis=1)\n",
    "    large_guide_df = pd.merge(guide_df, small_df, how=\"left\", on=[\"suid\", \"syllable\"])\n",
    "    large_guide_df.to_csv(os.path.join(src_eng_, f\"{guide_name}_complete.csv\"), index=False)"
   ]
  }
 ],
 "metadata": {
  "kernelspec": {
   "display_name": "lffl",
   "language": "python",
   "name": "python3"
  },
  "language_info": {
   "codemirror_mode": {
    "name": "ipython",
    "version": 3
   },
   "file_extension": ".py",
   "mimetype": "text/x-python",
   "name": "python",
   "nbconvert_exporter": "python",
   "pygments_lexer": "ipython3",
   "version": "3.11.5"
  }
 },
 "nbformat": 4,
 "nbformat_minor": 2
}
